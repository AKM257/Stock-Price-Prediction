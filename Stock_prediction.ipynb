{
  "cells": [
    {
      "cell_type": "code",
      "execution_count": 7,
      "metadata": {},
      "outputs": [
        {
          "name": "stdout",
          "output_type": "stream",
          "text": [
            "Requirement already satisfied: yfinance in c:\\users\\anshit\\appdata\\local\\programs\\python\\python311\\lib\\site-packages (0.2.63)\n",
            "Requirement already satisfied: pandas>=1.3.0 in c:\\users\\anshit\\appdata\\local\\programs\\python\\python311\\lib\\site-packages (from yfinance) (2.3.0)\n",
            "Requirement already satisfied: numpy>=1.16.5 in c:\\users\\anshit\\appdata\\local\\programs\\python\\python311\\lib\\site-packages (from yfinance) (2.3.0)\n",
            "Requirement already satisfied: requests>=2.31 in c:\\users\\anshit\\appdata\\local\\programs\\python\\python311\\lib\\site-packages (from yfinance) (2.31.0)\n",
            "Requirement already satisfied: multitasking>=0.0.7 in c:\\users\\anshit\\appdata\\local\\programs\\python\\python311\\lib\\site-packages (from yfinance) (0.0.11)\n",
            "Requirement already satisfied: platformdirs>=2.0.0 in c:\\users\\anshit\\appdata\\roaming\\python\\python311\\site-packages (from yfinance) (4.3.8)\n",
            "Requirement already satisfied: pytz>=2022.5 in c:\\users\\anshit\\appdata\\local\\programs\\python\\python311\\lib\\site-packages (from yfinance) (2025.2)\n",
            "Requirement already satisfied: frozendict>=2.3.4 in c:\\users\\anshit\\appdata\\local\\programs\\python\\python311\\lib\\site-packages (from yfinance) (2.4.6)\n",
            "Requirement already satisfied: peewee>=3.16.2 in c:\\users\\anshit\\appdata\\local\\programs\\python\\python311\\lib\\site-packages (from yfinance) (3.18.1)\n",
            "Requirement already satisfied: beautifulsoup4>=4.11.1 in c:\\users\\anshit\\appdata\\local\\programs\\python\\python311\\lib\\site-packages (from yfinance) (4.13.4)\n",
            "Requirement already satisfied: curl_cffi>=0.7 in c:\\users\\anshit\\appdata\\local\\programs\\python\\python311\\lib\\site-packages (from yfinance) (0.11.3)\n",
            "Requirement already satisfied: protobuf>=3.19.0 in c:\\users\\anshit\\appdata\\local\\programs\\python\\python311\\lib\\site-packages (from yfinance) (6.31.1)\n",
            "Requirement already satisfied: websockets>=13.0 in c:\\users\\anshit\\appdata\\local\\programs\\python\\python311\\lib\\site-packages (from yfinance) (15.0.1)\n",
            "Requirement already satisfied: soupsieve>1.2 in c:\\users\\anshit\\appdata\\local\\programs\\python\\python311\\lib\\site-packages (from beautifulsoup4>=4.11.1->yfinance) (2.7)\n",
            "Requirement already satisfied: typing-extensions>=4.0.0 in c:\\users\\anshit\\appdata\\roaming\\python\\python311\\site-packages (from beautifulsoup4>=4.11.1->yfinance) (4.14.0)\n",
            "Requirement already satisfied: cffi>=1.12.0 in c:\\users\\anshit\\appdata\\local\\programs\\python\\python311\\lib\\site-packages (from curl_cffi>=0.7->yfinance) (1.17.1)\n",
            "Requirement already satisfied: certifi>=2024.2.2 in c:\\users\\anshit\\appdata\\local\\programs\\python\\python311\\lib\\site-packages (from curl_cffi>=0.7->yfinance) (2025.6.15)\n",
            "Requirement already satisfied: python-dateutil>=2.8.2 in c:\\users\\anshit\\appdata\\roaming\\python\\python311\\site-packages (from pandas>=1.3.0->yfinance) (2.9.0.post0)\n",
            "Requirement already satisfied: tzdata>=2022.7 in c:\\users\\anshit\\appdata\\local\\programs\\python\\python311\\lib\\site-packages (from pandas>=1.3.0->yfinance) (2025.2)\n",
            "Requirement already satisfied: charset-normalizer<4,>=2 in c:\\users\\anshit\\appdata\\local\\programs\\python\\python311\\lib\\site-packages (from requests>=2.31->yfinance) (3.3.2)\n",
            "Requirement already satisfied: idna<4,>=2.5 in c:\\users\\anshit\\appdata\\local\\programs\\python\\python311\\lib\\site-packages (from requests>=2.31->yfinance) (3.4)\n",
            "Requirement already satisfied: urllib3<3,>=1.21.1 in c:\\users\\anshit\\appdata\\local\\programs\\python\\python311\\lib\\site-packages (from requests>=2.31->yfinance) (2.0.7)\n",
            "Requirement already satisfied: pycparser in c:\\users\\anshit\\appdata\\local\\programs\\python\\python311\\lib\\site-packages (from cffi>=1.12.0->curl_cffi>=0.7->yfinance) (2.22)\n",
            "Requirement already satisfied: six>=1.5 in c:\\users\\anshit\\appdata\\roaming\\python\\python311\\site-packages (from python-dateutil>=2.8.2->pandas>=1.3.0->yfinance) (1.17.0)\n",
            "Note: you may need to restart the kernel to use updated packages.\n"
          ]
        },
        {
          "name": "stderr",
          "output_type": "stream",
          "text": [
            "\n",
            "[notice] A new release of pip is available: 23.3.1 -> 25.1.1\n",
            "[notice] To update, run: python.exe -m pip install --upgrade pip\n"
          ]
        }
      ],
      "source": [
        "pip install yfinance"
      ]
    },
    {
      "cell_type": "code",
      "execution_count": 4,
      "metadata": {
        "id": "_GehT55EqT83"
      },
      "outputs": [],
      "source": [
        "import yfinance as yf\n",
        "from datetime import datetime"
      ]
    },
    {
      "cell_type": "code",
      "execution_count": 5,
      "metadata": {},
      "outputs": [
        {
          "name": "stderr",
          "output_type": "stream",
          "text": [
            "C:\\Users\\Anshit\\AppData\\Local\\Temp\\ipykernel_5580\\2633361076.py:4: FutureWarning: YF.download() has changed argument auto_adjust default to True\n",
            "  stock_data = yf.download(stock,start,end)\n",
            "[*********************100%***********************]  1 of 1 completed\n"
          ]
        }
      ],
      "source": [
        "end = datetime.now()\n",
        "start = datetime(year = end.year-20,month = end.month,day = end.day)\n",
        "stock = \"GOOG\"\n",
        "stock_data = yf.download(stock,start,end)"
      ]
    },
    {
      "cell_type": "code",
      "execution_count": 6,
      "metadata": {},
      "outputs": [
        {
          "data": {
            "text/plain": [
              "<bound method NDFrame.head of Price            Close        High         Low        Open     Volume\n",
              "Ticker            GOOG        GOOG        GOOG        GOOG       GOOG\n",
              "Date                                                                 \n",
              "2005-06-17    6.940079    6.940079    6.831138    6.907893  418940428\n",
              "2005-06-20    7.098540    7.122556    6.727890    6.835841  844140229\n",
              "2005-06-21    7.126766    7.187675    7.055706    7.132461  607560783\n",
              "2005-06-22    7.162914    7.237688    7.147316    7.172076  420530365\n",
              "2005-06-23    7.173066    7.299340    7.093588    7.130727  564363474\n",
              "...                ...         ...         ...         ...        ...\n",
              "2025-06-11  178.789993  181.750000  178.000000  181.229996   18994400\n",
              "2025-06-12  176.970001  178.130005  176.110001  177.479996   17345900\n",
              "2025-06-13  175.880005  178.343002  173.570007  173.580002   20873200\n",
              "2025-06-16  177.940002  178.244995  175.820007  175.904999   18099000\n",
              "2025-06-17  178.339905  178.580002  175.940002  177.009995    7250671\n",
              "\n",
              "[5032 rows x 5 columns]>"
            ]
          },
          "execution_count": 6,
          "metadata": {},
          "output_type": "execute_result"
        }
      ],
      "source": [
        "stock_data.head"
      ]
    }
  ],
  "metadata": {
    "colab": {
      "provenance": []
    },
    "kernelspec": {
      "display_name": "Python 3",
      "name": "python3"
    },
    "language_info": {
      "codemirror_mode": {
        "name": "ipython",
        "version": 3
      },
      "file_extension": ".py",
      "mimetype": "text/x-python",
      "name": "python",
      "nbconvert_exporter": "python",
      "pygments_lexer": "ipython3",
      "version": "3.11.3"
    }
  },
  "nbformat": 4,
  "nbformat_minor": 0
}
