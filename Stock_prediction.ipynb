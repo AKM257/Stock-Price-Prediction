{
  "cells": [
    {
      "cell_type": "code",
      "execution_count": 2,
      "metadata": {},
      "outputs": [
        {
          "name": "stdout",
          "output_type": "stream",
          "text": [
            "Collecting yfinance\n",
            "  Using cached yfinance-0.2.63-py2.py3-none-any.whl.metadata (5.8 kB)\n",
            "Collecting pandas>=1.3.0 (from yfinance)\n",
            "  Downloading pandas-2.3.0-cp311-cp311-win_amd64.whl.metadata (19 kB)\n",
            "Collecting numpy>=1.16.5 (from yfinance)\n",
            "  Downloading numpy-2.3.0-cp311-cp311-win_amd64.whl.metadata (60 kB)\n",
            "     ---------------------------------------- 0.0/60.9 kB ? eta -:--:--\n",
            "     ---------------------------------------- 60.9/60.9 kB 1.6 MB/s eta 0:00:00\n",
            "Requirement already satisfied: requests>=2.31 in c:\\users\\anshit\\appdata\\local\\programs\\python\\python311\\lib\\site-packages (from yfinance) (2.31.0)\n",
            "Collecting multitasking>=0.0.7 (from yfinance)\n",
            "  Using cached multitasking-0.0.11-py3-none-any.whl.metadata (5.5 kB)\n",
            "Requirement already satisfied: platformdirs>=2.0.0 in c:\\users\\anshit\\appdata\\roaming\\python\\python311\\site-packages (from yfinance) (4.3.8)\n",
            "Collecting pytz>=2022.5 (from yfinance)\n",
            "  Downloading pytz-2025.2-py2.py3-none-any.whl.metadata (22 kB)\n",
            "Collecting frozendict>=2.3.4 (from yfinance)\n",
            "  Downloading frozendict-2.4.6-py311-none-any.whl.metadata (23 kB)\n",
            "Collecting peewee>=3.16.2 (from yfinance)\n",
            "  Using cached peewee-3.18.1.tar.gz (3.0 MB)\n",
            "  Installing build dependencies: started\n",
            "  Installing build dependencies: finished with status 'done'\n",
            "  Getting requirements to build wheel: started\n",
            "  Getting requirements to build wheel: finished with status 'done'\n",
            "  Preparing metadata (pyproject.toml): started\n",
            "  Preparing metadata (pyproject.toml): finished with status 'done'\n",
            "Collecting beautifulsoup4>=4.11.1 (from yfinance)\n",
            "  Using cached beautifulsoup4-4.13.4-py3-none-any.whl.metadata (3.8 kB)\n",
            "Collecting curl_cffi>=0.7 (from yfinance)\n",
            "  Using cached curl_cffi-0.11.3-cp39-abi3-win_amd64.whl.metadata (15 kB)\n",
            "Collecting protobuf>=3.19.0 (from yfinance)\n",
            "  Downloading protobuf-6.31.1-cp310-abi3-win_amd64.whl.metadata (593 bytes)\n",
            "Collecting websockets>=13.0 (from yfinance)\n",
            "  Downloading websockets-15.0.1-cp311-cp311-win_amd64.whl.metadata (7.0 kB)\n",
            "Collecting soupsieve>1.2 (from beautifulsoup4>=4.11.1->yfinance)\n",
            "  Using cached soupsieve-2.7-py3-none-any.whl.metadata (4.6 kB)\n",
            "Requirement already satisfied: typing-extensions>=4.0.0 in c:\\users\\anshit\\appdata\\roaming\\python\\python311\\site-packages (from beautifulsoup4>=4.11.1->yfinance) (4.14.0)\n",
            "Collecting cffi>=1.12.0 (from curl_cffi>=0.7->yfinance)\n",
            "  Downloading cffi-1.17.1-cp311-cp311-win_amd64.whl.metadata (1.6 kB)\n",
            "Collecting certifi>=2024.2.2 (from curl_cffi>=0.7->yfinance)\n",
            "  Downloading certifi-2025.6.15-py3-none-any.whl.metadata (2.4 kB)\n",
            "Requirement already satisfied: python-dateutil>=2.8.2 in c:\\users\\anshit\\appdata\\roaming\\python\\python311\\site-packages (from pandas>=1.3.0->yfinance) (2.9.0.post0)\n",
            "Collecting tzdata>=2022.7 (from pandas>=1.3.0->yfinance)\n",
            "  Downloading tzdata-2025.2-py2.py3-none-any.whl.metadata (1.4 kB)\n",
            "Requirement already satisfied: charset-normalizer<4,>=2 in c:\\users\\anshit\\appdata\\local\\programs\\python\\python311\\lib\\site-packages (from requests>=2.31->yfinance) (3.3.2)\n",
            "Requirement already satisfied: idna<4,>=2.5 in c:\\users\\anshit\\appdata\\local\\programs\\python\\python311\\lib\\site-packages (from requests>=2.31->yfinance) (3.4)\n",
            "Requirement already satisfied: urllib3<3,>=1.21.1 in c:\\users\\anshit\\appdata\\local\\programs\\python\\python311\\lib\\site-packages (from requests>=2.31->yfinance) (2.0.7)\n",
            "Collecting pycparser (from cffi>=1.12.0->curl_cffi>=0.7->yfinance)\n",
            "  Using cached pycparser-2.22-py3-none-any.whl.metadata (943 bytes)\n",
            "Requirement already satisfied: six>=1.5 in c:\\users\\anshit\\appdata\\roaming\\python\\python311\\site-packages (from python-dateutil>=2.8.2->pandas>=1.3.0->yfinance) (1.17.0)\n",
            "Using cached yfinance-0.2.63-py2.py3-none-any.whl (118 kB)\n",
            "Using cached beautifulsoup4-4.13.4-py3-none-any.whl (187 kB)\n",
            "Using cached curl_cffi-0.11.3-cp39-abi3-win_amd64.whl (1.4 MB)\n",
            "Downloading frozendict-2.4.6-py311-none-any.whl (16 kB)\n",
            "Using cached multitasking-0.0.11-py3-none-any.whl (8.5 kB)\n",
            "Downloading numpy-2.3.0-cp311-cp311-win_amd64.whl (13.0 MB)\n",
            "   ---------------------------------------- 0.0/13.0 MB ? eta -:--:--\n",
            "   ---------------------------------------- 0.1/13.0 MB 3.6 MB/s eta 0:00:04\n",
            "    --------------------------------------- 0.3/13.0 MB 3.9 MB/s eta 0:00:04\n",
            "   - -------------------------------------- 0.6/13.0 MB 4.8 MB/s eta 0:00:03\n",
            "   -- ------------------------------------- 0.9/13.0 MB 5.2 MB/s eta 0:00:03\n",
            "   --- ------------------------------------ 1.2/13.0 MB 5.4 MB/s eta 0:00:03\n",
            "   ---- ----------------------------------- 1.5/13.0 MB 5.8 MB/s eta 0:00:02\n",
            "   ----- ---------------------------------- 1.8/13.0 MB 5.8 MB/s eta 0:00:02\n",
            "   ------ --------------------------------- 2.1/13.0 MB 5.7 MB/s eta 0:00:02\n",
            "   ------- -------------------------------- 2.4/13.0 MB 5.9 MB/s eta 0:00:02\n",
            "   -------- ------------------------------- 2.7/13.0 MB 5.9 MB/s eta 0:00:02\n",
            "   --------- ------------------------------ 3.0/13.0 MB 6.0 MB/s eta 0:00:02\n",
            "   ---------- ----------------------------- 3.3/13.0 MB 6.1 MB/s eta 0:00:02\n",
            "   ----------- ---------------------------- 3.6/13.0 MB 6.1 MB/s eta 0:00:02\n",
            "   ------------ --------------------------- 4.0/13.0 MB 6.2 MB/s eta 0:00:02\n",
            "   ------------- -------------------------- 4.3/13.0 MB 6.3 MB/s eta 0:00:02\n",
            "   -------------- ------------------------- 4.6/13.0 MB 6.5 MB/s eta 0:00:02\n",
            "   --------------- ------------------------ 4.9/13.0 MB 6.5 MB/s eta 0:00:02\n",
            "   ---------------- ----------------------- 5.3/13.0 MB 6.5 MB/s eta 0:00:02\n",
            "   ---------------- ----------------------- 5.5/13.0 MB 6.4 MB/s eta 0:00:02\n",
            "   ----------------- ---------------------- 5.8/13.0 MB 6.4 MB/s eta 0:00:02\n",
            "   ------------------ --------------------- 6.1/13.0 MB 6.4 MB/s eta 0:00:02\n",
            "   ------------------- -------------------- 6.4/13.0 MB 6.4 MB/s eta 0:00:02\n",
            "   -------------------- ------------------- 6.8/13.0 MB 6.4 MB/s eta 0:00:01\n",
            "   --------------------- ------------------ 7.0/13.0 MB 6.4 MB/s eta 0:00:01\n",
            "   ---------------------- ----------------- 7.2/13.0 MB 6.3 MB/s eta 0:00:01\n",
            "   ----------------------- ---------------- 7.5/13.0 MB 6.3 MB/s eta 0:00:01\n",
            "   ------------------------ --------------- 7.8/13.0 MB 6.3 MB/s eta 0:00:01\n",
            "   ------------------------- -------------- 8.1/13.0 MB 6.3 MB/s eta 0:00:01\n",
            "   -------------------------- ------------- 8.5/13.0 MB 6.4 MB/s eta 0:00:01\n",
            "   -------------------------- ------------- 8.8/13.0 MB 6.4 MB/s eta 0:00:01\n",
            "   --------------------------- ------------ 9.1/13.0 MB 6.4 MB/s eta 0:00:01\n",
            "   ---------------------------- ----------- 9.4/13.0 MB 6.4 MB/s eta 0:00:01\n",
            "   ------------------------------ --------- 9.9/13.0 MB 6.5 MB/s eta 0:00:01\n",
            "   ------------------------------- -------- 10.2/13.0 MB 6.5 MB/s eta 0:00:01\n",
            "   -------------------------------- ------- 10.5/13.0 MB 6.7 MB/s eta 0:00:01\n",
            "   --------------------------------- ------ 10.9/13.0 MB 6.7 MB/s eta 0:00:01\n",
            "   ---------------------------------- ----- 11.1/13.0 MB 6.7 MB/s eta 0:00:01\n",
            "   ----------------------------------- ---- 11.4/13.0 MB 6.7 MB/s eta 0:00:01\n",
            "   ------------------------------------ --- 11.7/13.0 MB 6.7 MB/s eta 0:00:01\n",
            "   ------------------------------------- -- 12.1/13.0 MB 6.7 MB/s eta 0:00:01\n",
            "   ------------------------------------- -- 12.3/13.0 MB 6.7 MB/s eta 0:00:01\n",
            "   -------------------------------------- - 12.7/13.0 MB 6.7 MB/s eta 0:00:01\n",
            "   ---------------------------------------  13.0/13.0 MB 6.7 MB/s eta 0:00:01\n",
            "   ---------------------------------------- 13.0/13.0 MB 6.6 MB/s eta 0:00:00\n",
            "Downloading pandas-2.3.0-cp311-cp311-win_amd64.whl (11.1 MB)\n",
            "   ---------------------------------------- 0.0/11.1 MB ? eta -:--:--\n",
            "    --------------------------------------- 0.3/11.1 MB 7.7 MB/s eta 0:00:02\n",
            "   -- ------------------------------------- 0.6/11.1 MB 7.1 MB/s eta 0:00:02\n",
            "   --- ------------------------------------ 0.9/11.1 MB 7.0 MB/s eta 0:00:02\n",
            "   ---- ----------------------------------- 1.1/11.1 MB 6.5 MB/s eta 0:00:02\n",
            "   ----- ---------------------------------- 1.5/11.1 MB 7.4 MB/s eta 0:00:02\n",
            "   ------ --------------------------------- 1.8/11.1 MB 7.3 MB/s eta 0:00:02\n",
            "   ------- -------------------------------- 2.2/11.1 MB 7.2 MB/s eta 0:00:02\n",
            "   -------- ------------------------------- 2.4/11.1 MB 6.9 MB/s eta 0:00:02\n",
            "   --------- ------------------------------ 2.7/11.1 MB 6.8 MB/s eta 0:00:02\n",
            "   ---------- ----------------------------- 3.0/11.1 MB 6.8 MB/s eta 0:00:02\n",
            "   ------------ --------------------------- 3.4/11.1 MB 6.9 MB/s eta 0:00:02\n",
            "   ------------- -------------------------- 3.6/11.1 MB 6.8 MB/s eta 0:00:02\n",
            "   -------------- ------------------------- 4.0/11.1 MB 6.8 MB/s eta 0:00:02\n",
            "   --------------- ------------------------ 4.3/11.1 MB 6.8 MB/s eta 0:00:01\n",
            "   ---------------- ----------------------- 4.6/11.1 MB 6.8 MB/s eta 0:00:01\n",
            "   ----------------- ---------------------- 4.9/11.1 MB 6.8 MB/s eta 0:00:01\n",
            "   -------------------- ------------------- 5.7/11.1 MB 6.7 MB/s eta 0:00:01\n",
            "   --------------------- ------------------ 6.1/11.1 MB 6.8 MB/s eta 0:00:01\n",
            "   ----------------------- ---------------- 6.4/11.1 MB 6.8 MB/s eta 0:00:01\n",
            "   ------------------------ --------------- 6.7/11.1 MB 6.8 MB/s eta 0:00:01\n",
            "   ------------------------- -------------- 7.0/11.1 MB 6.8 MB/s eta 0:00:01\n",
            "   -------------------------- ------------- 7.4/11.1 MB 6.8 MB/s eta 0:00:01\n",
            "   --------------------------- ------------ 7.7/11.1 MB 6.9 MB/s eta 0:00:01\n",
            "   ---------------------------- ----------- 8.0/11.1 MB 6.8 MB/s eta 0:00:01\n",
            "   ----------------------------- ---------- 8.3/11.1 MB 6.9 MB/s eta 0:00:01\n",
            "   ------------------------------ --------- 8.6/11.1 MB 6.9 MB/s eta 0:00:01\n",
            "   -------------------------------- ------- 8.9/11.1 MB 6.9 MB/s eta 0:00:01\n",
            "   --------------------------------- ------ 9.2/11.1 MB 6.9 MB/s eta 0:00:01\n",
            "   ---------------------------------- ----- 9.5/11.1 MB 6.8 MB/s eta 0:00:01\n",
            "   ----------------------------------- ---- 9.8/11.1 MB 6.8 MB/s eta 0:00:01\n",
            "   ------------------------------------ --- 10.1/11.1 MB 6.8 MB/s eta 0:00:01\n",
            "   -------------------------------------- - 10.5/11.1 MB 6.9 MB/s eta 0:00:01\n",
            "   ---------------------------------------  10.8/11.1 MB 6.8 MB/s eta 0:00:01\n",
            "   ---------------------------------------  11.1/11.1 MB 6.9 MB/s eta 0:00:01\n",
            "   ---------------------------------------- 11.1/11.1 MB 6.7 MB/s eta 0:00:00\n",
            "Downloading protobuf-6.31.1-cp310-abi3-win_amd64.whl (435 kB)\n",
            "   ---------------------------------------- 0.0/435.3 kB ? eta -:--:--\n",
            "   ------------------ --------------------- 204.8/435.3 kB 6.3 MB/s eta 0:00:01\n",
            "   ---------------------------------------- 435.3/435.3 kB 5.4 MB/s eta 0:00:00\n",
            "Downloading pytz-2025.2-py2.py3-none-any.whl (509 kB)\n",
            "   ---------------------------------------- 0.0/509.2 kB ? eta -:--:--\n",
            "   ---------------------- ----------------- 286.7/509.2 kB 5.9 MB/s eta 0:00:01\n",
            "   ---------------------------------------- 509.2/509.2 kB 6.4 MB/s eta 0:00:00\n",
            "Downloading websockets-15.0.1-cp311-cp311-win_amd64.whl (176 kB)\n",
            "   ---------------------------------------- 0.0/176.8 kB ? eta -:--:--\n",
            "   ---------------------------------------- 176.8/176.8 kB 5.4 MB/s eta 0:00:00\n",
            "Downloading certifi-2025.6.15-py3-none-any.whl (157 kB)\n",
            "   ---------------------------------------- 0.0/157.7 kB ? eta -:--:--\n",
            "   ---------------------------------------- 157.7/157.7 kB 9.2 MB/s eta 0:00:00\n",
            "Downloading cffi-1.17.1-cp311-cp311-win_amd64.whl (181 kB)\n",
            "   ---------------------------------------- 0.0/181.4 kB ? eta -:--:--\n",
            "   ---------------------------------------- 181.4/181.4 kB 5.3 MB/s eta 0:00:00\n",
            "Using cached soupsieve-2.7-py3-none-any.whl (36 kB)\n",
            "Downloading tzdata-2025.2-py2.py3-none-any.whl (347 kB)\n",
            "   ---------------------------------------- 0.0/347.8 kB ? eta -:--:--\n",
            "   ----------------------------------- ---- 307.2/347.8 kB 6.3 MB/s eta 0:00:01\n",
            "   ---------------------------------------- 347.8/347.8 kB 7.2 MB/s eta 0:00:00\n",
            "Using cached pycparser-2.22-py3-none-any.whl (117 kB)\n",
            "Building wheels for collected packages: peewee\n",
            "  Building wheel for peewee (pyproject.toml): started\n",
            "  Building wheel for peewee (pyproject.toml): finished with status 'done'\n",
            "  Created wheel for peewee: filename=peewee-3.18.1-py3-none-any.whl size=139097 sha256=779a8dd6d359be78749130e2b28d4491f6ef50734eaf474fb2c637c94335b52c\n",
            "  Stored in directory: c:\\users\\anshit\\appdata\\local\\pip\\cache\\wheels\\25\\cb\\79\\a133a0d1d75f318a96614ed7fb97bdf2f35a7b6c4d4e426e3f\n",
            "Successfully built peewee\n",
            "Installing collected packages: pytz, peewee, multitasking, websockets, tzdata, soupsieve, pycparser, protobuf, numpy, frozendict, certifi, pandas, cffi, beautifulsoup4, curl_cffi, yfinance\n",
            "  Attempting uninstall: certifi\n",
            "    Found existing installation: certifi 2023.7.22\n",
            "    Uninstalling certifi-2023.7.22:\n",
            "      Successfully uninstalled certifi-2023.7.22\n",
            "Successfully installed beautifulsoup4-4.13.4 certifi-2025.6.15 cffi-1.17.1 curl_cffi-0.11.3 frozendict-2.4.6 multitasking-0.0.11 numpy-2.3.0 pandas-2.3.0 peewee-3.18.1 protobuf-6.31.1 pycparser-2.22 pytz-2025.2 soupsieve-2.7 tzdata-2025.2 websockets-15.0.1 yfinance-0.2.63\n",
            "Note: you may need to restart the kernel to use updated packages.\n"
          ]
        },
        {
          "name": "stderr",
          "output_type": "stream",
          "text": [
            "\n",
            "[notice] A new release of pip is available: 23.3.1 -> 25.1.1\n",
            "[notice] To update, run: python.exe -m pip install --upgrade pip\n"
          ]
        }
      ],
      "source": [
        "pip install yfinance"
      ]
    },
    {
      "cell_type": "code",
      "execution_count": 3,
      "metadata": {
        "id": "_GehT55EqT83"
      },
      "outputs": [],
      "source": [
        "import yfinance as yf\n",
        "from datetime import datetime"
      ]
    },
    {
      "cell_type": "code",
      "execution_count": 5,
      "metadata": {},
      "outputs": [
        {
          "name": "stderr",
          "output_type": "stream",
          "text": [
            "C:\\Users\\Anshit\\AppData\\Local\\Temp\\ipykernel_11300\\2633361076.py:4: FutureWarning: YF.download() has changed argument auto_adjust default to True\n",
            "  stock_data = yf.download(stock,start,end)\n",
            "[*********************100%***********************]  1 of 1 completed\n"
          ]
        }
      ],
      "source": [
        "end = datetime.now()\n",
        "start = datetime(year = end.year-20,month = end.month,day = end.day)\n",
        "stock = \"GOOG\"\n",
        "stock_data = yf.download(stock,start,end)"
      ]
    },
    {
      "cell_type": "code",
      "execution_count": null,
      "metadata": {},
      "outputs": [
        {
          "name": "stdout",
          "output_type": "stream",
          "text": [
            "<class 'pandas.core.frame.DataFrame'>\n"
          ]
        }
      ],
      "source": [
        "d"
      ]
    }
  ],
  "metadata": {
    "colab": {
      "provenance": []
    },
    "kernelspec": {
      "display_name": "Python 3",
      "name": "python3"
    },
    "language_info": {
      "codemirror_mode": {
        "name": "ipython",
        "version": 3
      },
      "file_extension": ".py",
      "mimetype": "text/x-python",
      "name": "python",
      "nbconvert_exporter": "python",
      "pygments_lexer": "ipython3",
      "version": "3.11.3"
    }
  },
  "nbformat": 4,
  "nbformat_minor": 0
}
