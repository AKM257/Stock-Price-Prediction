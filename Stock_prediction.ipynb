{
  "cells": [
    {
      "cell_type": "code",
      "execution_count": null,
      "metadata": {},
      "outputs": [],
      "source": [
        "pip install yfinance"
      ]
    },
    {
      "cell_type": "code",
      "execution_count": null,
      "metadata": {
        "id": "_GehT55EqT83"
      },
      "outputs": [],
      "source": [
        "import yfinance as yf\n",
        "from datetime import datetime"
      ]
    },
    {
      "cell_type": "code",
      "execution_count": null,
      "metadata": {},
      "outputs": [
        {
          "name": "stderr",
          "output_type": "stream",
          "text": [
            "C:\\Users\\Anshit\\AppData\\Local\\Temp\\ipykernel_5580\\2633361076.py:4: FutureWarning: YF.download() has changed argument auto_adjust default to True\n",
            "  stock_data = yf.download(stock,start,end)\n",
            "[*********************100%***********************]  1 of 1 completed\n"
          ]
        }
      ],
      "source": [
        "end = datetime.now()\n",
        "start = datetime(year = end.year-20,month = end.month,day = end.day)\n",
        "stock = \"GOOG\"\n",
        "stock_data = yf.download(stock,start,end)"
      ]
    },
    {
      "cell_type": "code",
      "execution_count": null,
      "metadata": {},
      "outputs": [
        {
          "data": {
            "text/plain": [
              "<bound method NDFrame.head of Price            Close        High         Low        Open     Volume\n",
              "Ticker            GOOG        GOOG        GOOG        GOOG       GOOG\n",
              "Date                                                                 \n",
              "2005-06-17    6.940079    6.940079    6.831138    6.907893  418940428\n",
              "2005-06-20    7.098540    7.122556    6.727890    6.835841  844140229\n",
              "2005-06-21    7.126766    7.187675    7.055706    7.132461  607560783\n",
              "2005-06-22    7.162914    7.237688    7.147316    7.172076  420530365\n",
              "2005-06-23    7.173066    7.299340    7.093588    7.130727  564363474\n",
              "...                ...         ...         ...         ...        ...\n",
              "2025-06-11  178.789993  181.750000  178.000000  181.229996   18994400\n",
              "2025-06-12  176.970001  178.130005  176.110001  177.479996   17345900\n",
              "2025-06-13  175.880005  178.343002  173.570007  173.580002   20873200\n",
              "2025-06-16  177.940002  178.244995  175.820007  175.904999   18099000\n",
              "2025-06-17  178.339905  178.580002  175.940002  177.009995    7250671\n",
              "\n",
              "[5032 rows x 5 columns]>"
            ]
          },
          "execution_count": 6,
          "metadata": {},
          "output_type": "execute_result"
        }
      ],
      "source": [
        "stock_data.head"
      ]
    },
    {
      "cell_type": "code",
      "execution_count": null,
      "metadata": {},
      "outputs": [
        {
          "data": {
            "text/plain": [
              "(5032, 5)"
            ]
          },
          "execution_count": 9,
          "metadata": {},
          "output_type": "execute_result"
        }
      ],
      "source": [
        "stock_data.shape"
      ]
    }
  ],
  "metadata": {
    "colab": {
      "provenance": []
    },
    "kernelspec": {
      "display_name": "Python 3",
      "name": "python3"
    },
    "language_info": {
      "codemirror_mode": {
        "name": "ipython",
        "version": 3
      },
      "file_extension": ".py",
      "mimetype": "text/x-python",
      "name": "python",
      "nbconvert_exporter": "python",
      "pygments_lexer": "ipython3",
      "version": "3.11.3"
    }
  },
  "nbformat": 4,
  "nbformat_minor": 0
}
